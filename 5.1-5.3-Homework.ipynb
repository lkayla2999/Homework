{
 "cells": [
  {
   "attachments": {},
   "cell_type": "markdown",
   "metadata": {},
   "source": [
    "<!-- Headings -->\n",
    "Homework 5 \n",
    "\n",
    "\n",
    "<! --OL-->\n",
    "\n",
    "1. What does Pandas stand for? \n",
    "\n",
    "<font color= green> An open-source Python package that is most widely used for data science/data analysis and machine learning tasks. </font>\n",
    "\n",
    "2. What are the 2 collections used in Pandas?\n",
    "\n",
    "<font color= green> “Panel Data” and “Python Data Analysis”</font>\n",
    "\n",
    "3. Name 4 things Pandas can do for us. \n",
    "\n",
    "<font color= green>\n",
    "\n",
    "   * Data Cleansing\n",
    "   * Data normalization\n",
    "   * Data visualization\n",
    "   * Data inspection\n",
    " </font>\n",
    "\n",
    "\n",
    "\n",
    "4. To permanently sort a DataFrame, which keyword should one use with the df.sort() method?\n",
    "\n",
    "<font color= green>\n",
    "_values\n",
    "</font>\n",
    "\n",
    "5. What is a CSV?\n",
    "\n",
    "<font color= green>\n",
    "CSV files contains plain text and is a well know format that can be read by everyone including Pandas.\n",
    "</font>\n",
    "\n",
    "\n",
    "6. When cleaning data what values do we not like in our data?\n",
    "\n",
    "    * Values like 0\n",
    "    * NA\n",
    "    * None\n",
    "    * Null\n",
    "    * INF"
   ]
  },
  {
   "cell_type": "code",
   "execution_count": 24,
   "metadata": {},
   "outputs": [
    {
     "name": "stdout",
     "output_type": "stream",
     "text": [
      "aArray original shape ...\n",
      " [[25 16]]\n",
      "newShape1 ... [25 16]\n",
      "\n",
      " reshaping bArray ...\n",
      " [[11  2]\n",
      " [13  4]]\n",
      "\n",
      " reshaping cArray ...\n",
      " [[ 7 81  5]\n",
      " [ 6 11 12]]\n"
     ]
    }
   ],
   "source": [
    "#Concatenate these 3 arrays into a new array named 'newArray'\n",
    "# ([[25, 16]])\n",
    "#([[11, 2], [13, 4]])\n",
    "#([[7, 81], [5, 6], [11, 12]])\n",
    "\n",
    "# reshaping a NumPy \n",
    "import numpy as np\n",
    "\n",
    "aArray = np.array([[25, 16]])\n",
    "bArray = np.array([[11, 2], [13, 4]])\n",
    "cArray = np.array([[7, 81], [5, 6], [11, 12]])\n",
    "\n",
    "\n",
    "print(\"aArray original shape ...\\n\", aArray)\n",
    "\n",
    "newShape1 = np.reshape(aArray, 2)\n",
    "print(\"newShape1 ...\", newShape1)\n",
    "\n",
    "newShape2 = bArray.reshape(2,2)\n",
    "print(\"\\n reshaping bArray ...\\n\", newShape2)\n",
    "\n",
    "newShape3 = cArray.reshape(2,3)\n",
    "print(\"\\n reshaping cArray ...\\n\", newShape3)"
   ]
  },
  {
   "cell_type": "code",
   "execution_count": null,
   "metadata": {},
   "outputs": [],
   "source": []
  }
 ],
 "metadata": {
  "kernelspec": {
   "display_name": "Python 3",
   "language": "python",
   "name": "python3"
  },
  "language_info": {
   "codemirror_mode": {
    "name": "ipython",
    "version": 3
   },
   "file_extension": ".py",
   "mimetype": "text/x-python",
   "name": "python",
   "nbconvert_exporter": "python",
   "pygments_lexer": "ipython3",
   "version": "3.11.1"
  },
  "orig_nbformat": 4
 },
 "nbformat": 4,
 "nbformat_minor": 2
}
