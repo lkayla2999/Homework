{
 "cells": [
  {
   "cell_type": "code",
   "execution_count": 3,
   "metadata": {},
   "outputs": [
    {
     "name": "stdout",
     "output_type": "stream",
     "text": [
      "Renting a car is more afforable.\n"
     ]
    }
   ],
   "source": [
    "#\"Create an if statement: if 'age' is greater than or equal to 25\n",
    "#print \"Renting a car is more affordable\"\n",
    "# however if 'age' is less than 25, print \"Renting a car is very expensive.\"\n",
    "\n",
    "age = 75 \n",
    "\n",
    "if age >=25:\n",
    "     print(\"Renting a car is more afforable.\")\n",
    "elif age <=25: \n",
    "     print(\"Renting a car is very expensive.\")\n"
   ]
  },
  {
   "cell_type": "code",
   "execution_count": 8,
   "metadata": {},
   "outputs": [
    {
     "name": "stdout",
     "output_type": "stream",
     "text": [
      "Renting a car is very expensive.\n"
     ]
    }
   ],
   "source": [
    "#Create and chain an if-else statement: if 'age' is greater than or equal to 25\n",
    "#print \"Renting a car is more affordable.\" \n",
    "#If 'age' is less than 25 but greater than or equal to 18\n",
    "#print \"Renting a car is very expensive.\" \n",
    "#Finally, if age is less than 18\n",
    "#print \"You cannot legally rent a car.\"\n",
    "\n",
    "age = 21 \n",
    "\n",
    "if age >=25:\n",
    "     print(\"Renting a car is more afforable.\")\n",
    "if age <=25: \n",
    "     print(\"Renting a car is very expensive.\")\n",
    "elif age <18: \n",
    "     print(\"You cannot legally rent a car.\")"
   ]
  },
  {
   "cell_type": "code",
   "execution_count": 69,
   "metadata": {},
   "outputs": [
    {
     "name": "stdout",
     "output_type": "stream",
     "text": [
      "0\n",
      "0\n",
      "element count ... 2\n",
      "Element 1 =  l\n",
      "Element 2 =  e\n",
      "Element 6 =  a\n",
      "Element -1 =  e\n",
      "Element -2 =  k\n",
      "Element -6 =   \n",
      "Element 1 =  l\n",
      "Element 1 =  l\n",
      "Element 1 =  l\n",
      "Element 1 =  l\n",
      "Element 1 =  l\n",
      "Element 1 =  l\n",
      "Element 1 =  l\n",
      "Element 1 =  l\n",
      "Element 1 =  l\n",
      "Element 1 =  l\n",
      "Element 1 =  l\n",
      "Element 1 =  l\n",
      "Element 1 =  l\n",
      "Element 1 =  l\n",
      "Element 1 =  l\n",
      "Element 1 =  l\n",
      "Element 1 =  l\n",
      "Element 1 =  l\n",
      "Element 1 =  l\n",
      "Element 1 =  l\n",
      "Element 1 =  l\n",
      "Element 1 =  l\n",
      "Element 1 =  l\n",
      "Element 1 =  l\n",
      "Element 1 =  l\n",
      "Element 1 =  l\n",
      "Element 1 =  l\n",
      "Element 1 =  l\n",
      "Element 1 =  l\n",
      "Element 1 =  l\n",
      "Element 1 =  l\n",
      "Element 1 =  l\n",
      "Element 1 =  l\n",
      "Element 1 =  l\n",
      "Element 1 =  l\n",
      "Element 1 =  l\n",
      "Element 1 =  l\n",
      "Element 1 =  l\n",
      "Element 1 =  l\n",
      "Element 1 =  l\n",
      "Element 1 =  l\n",
      "Element 1 =  l\n",
      "Element 1 =  l\n",
      "Element 2 =  e\n",
      "Element 6 =  a\n",
      "Element -1 =  e\n",
      "Element -2 =  k\n",
      "Element -6 =   \n",
      "0\n"
     ]
    }
   ],
   "source": [
    "#Loop over the following string to (1) count all the characters in the string \n",
    "#(2) print out all the vowels -- \"The quick brown fox jumps over the lazy dog\"\n",
    "a= \"The quick brown fox jumps over the lazy dog\"\n",
    "\n",
    "#def countCharacters (a):\n",
    "count=0\n",
    "for char in a: \n",
    "    count += int ()\n",
    "print(count)\n",
    "\n",
    "a= \"The quick brown fox jumps over the lazy dog\"\n",
    "count=0\n",
    "print(count)\n",
    "\n",
    "# count() - Returns the number of times a value occurs in a tuple\n",
    "thisTuple = (1, 3, 7, 8, 7, 5, 4, 6, 8, 5)\n",
    "x = thisTuple.count(5)\n",
    "print(\"element count ...\", x)\n",
    "\n",
    "\n",
    "\n",
    "a= \"The quick brown fox jumps over the lazy dog\"\n",
    "\n",
    "count=0\n",
    "for char in a: \n",
    "    print(\"Element 1 = \", L[0])\n",
    "print(\"Element 2 = \",  L[1])\n",
    "print(\"Element 6 = \",  L[5])\n",
    "\n",
    "print(\"Element -1 = \", L[-1])\n",
    "print(\"Element -2 = \",  L[-2])\n",
    "print(\"Element -6 = \",  L[-6])\n",
    "print(count)\n",
    "\n"
   ]
  },
  {
   "cell_type": "code",
   "execution_count": 91,
   "metadata": {},
   "outputs": [],
   "source": [
    "#Loop over the following string to (1) count all the characters in the string \n",
    "#(2) print out all the vowels -- \"The quick brown fox jumps over the lazy dog\"\n",
    "\n",
    "def countVowels(word):\n",
    "  vowels = ['a', 'e', 'i', 'o', 'u'] # Store list of vowels to compare to\n",
    "  count = 0                          # Establish a count as zero\n",
    "    \n",
    "  word = word.lower()                # Standardize the word by changing it to lower case\n",
    "  for letter in word:                # Iterate over the word argument as if it is an array\n",
    "    if letter in vowels:             # If the current letter is found in the vowels array\n",
    "      count += 1                     # Increment the count by one\n",
    "    \n",
    "  print(count)   \n",
    "\n",
    "  countVowels(\" The quick brown fox jumps over the lazy dog \")         "
   ]
  },
  {
   "cell_type": "code",
   "execution_count": 97,
   "metadata": {},
   "outputs": [
    {
     "name": "stdout",
     "output_type": "stream",
     "text": [
      "trousers burnt sienna\n",
      "trousers auburn\n",
      "trousers Dark Sapphire\n",
      "trousers fuchsia\n",
      "trousers cerise\n",
      "trousers aqua\n",
      "trousers gunmetal blue\n",
      "trousers maple\n",
      "blouse burnt sienna\n",
      "blouse auburn\n",
      "blouse Dark Sapphire\n",
      "blouse fuchsia\n",
      "blouse cerise\n",
      "blouse aqua\n",
      "blouse gunmetal blue\n",
      "blouse maple\n",
      "bandana burnt sienna\n",
      "bandana auburn\n",
      "bandana Dark Sapphire\n",
      "bandana fuchsia\n",
      "bandana cerise\n",
      "bandana aqua\n",
      "bandana gunmetal blue\n",
      "bandana maple\n",
      "cumber band burnt sienna\n",
      "cumber band auburn\n",
      "cumber band Dark Sapphire\n",
      "cumber band fuchsia\n",
      "cumber band cerise\n",
      "cumber band aqua\n",
      "cumber band gunmetal blue\n",
      "cumber band maple\n",
      "blazer burnt sienna\n",
      "blazer auburn\n",
      "blazer Dark Sapphire\n",
      "blazer fuchsia\n",
      "blazer cerise\n",
      "blazer aqua\n",
      "blazer gunmetal blue\n",
      "blazer maple\n",
      "vest burnt sienna\n",
      "vest auburn\n",
      "vest Dark Sapphire\n",
      "vest fuchsia\n",
      "vest cerise\n",
      "vest aqua\n",
      "vest gunmetal blue\n",
      "vest maple\n",
      "french beret burnt sienna\n",
      "french beret auburn\n",
      "french beret Dark Sapphire\n",
      "french beret fuchsia\n",
      "french beret cerise\n",
      "french beret aqua\n",
      "french beret gunmetal blue\n",
      "french beret maple\n",
      "scarf burnt sienna\n",
      "scarf auburn\n",
      "scarf Dark Sapphire\n",
      "scarf fuchsia\n",
      "scarf cerise\n",
      "scarf aqua\n",
      "scarf gunmetal blue\n",
      "scarf maple\n",
      "stole burnt sienna\n",
      "stole auburn\n",
      "stole Dark Sapphire\n",
      "stole fuchsia\n",
      "stole cerise\n",
      "stole aqua\n",
      "stole gunmetal blue\n",
      "stole maple\n"
     ]
    }
   ],
   "source": [
    "#Write a nested loop that prints out every piece of clothing from the couture list\n",
    "#in every fashionable color from the panettone set: couture = [\"trousers\", \"blouse\", \"bandana\", \"cumber band\", \"blazer\", \"vest\", \"french beret\", \"scarf\", \"stole\"] \n",
    "#panettone = {\"cerise\", \"fuchsia\", \"aqua\", \"maple\", \"auburn\", \"burnt sienna\", \"gunmetal blue\", \"Dark Sapphire\"}\n",
    "\n",
    "couture = [\"trousers\", \"blouse\", \"bandana\", \"cumber band\", \"blazer\", \"vest\", \"french beret\", \"scarf\", \"stole\"]\n",
    "\n",
    "panettone= {\"cerise\", \"fuchsia\", \"aqua\", \"maple\", \"auburn\", \"burnt sienna\", \"gunmetal blue\", \"Dark Sapphire\"}\n",
    "\n",
    "for x in couture:\n",
    "     for y in panettone:\n",
    "          print(x,y)"
   ]
  },
  {
   "cell_type": "code",
   "execution_count": 108,
   "metadata": {},
   "outputs": [
    {
     "name": "stdout",
     "output_type": "stream",
     "text": [
      "99\n"
     ]
    }
   ],
   "source": [
    "#Use range as a loop to calculate the sum of all the numbers from 1 to 100\n",
    "#for x in range(1,100):\n",
    "#sum += x\n",
    "   # print(x)\n",
    "\n",
    "#Use range as a loop to calculate the sum of all the numbers from 1 to 100\n",
    "sum = 0\n",
    "for x in range(1,100):\n",
    "    sum += x\n",
    "print(x)"
   ]
  },
  {
   "cell_type": "code",
   "execution_count": 112,
   "metadata": {},
   "outputs": [
    {
     "name": "stdout",
     "output_type": "stream",
     "text": [
      "banana\n"
     ]
    }
   ],
   "source": [
    "#Print the second item in this fruits list. [\"apple\", \"banana\", \"cherry\"]\n",
    "\n",
    "fruits = [\"apple\", \"banana\", \"cherry\"]\n",
    "\n",
    "print(fruits[1])\n"
   ]
  },
  {
   "cell_type": "code",
   "execution_count": 116,
   "metadata": {},
   "outputs": [
    {
     "name": "stdout",
     "output_type": "stream",
     "text": [
      "['kiwi', 'banana', 'cherry']\n"
     ]
    }
   ],
   "source": [
    "#Change the value from \"apple\" to \"kiwi\", in the fruits list.\n",
    "# [\"apple\", \"banana\", \"cherry\"]\n",
    "\n",
    "fruits = [\"apple\", \"banana\", \"cherry\"]\n",
    "\n",
    "fruits[0] =\"kiwi\"\n",
    "\n",
    "print(fruits)"
   ]
  },
  {
   "cell_type": "code",
   "execution_count": 121,
   "metadata": {},
   "outputs": [
    {
     "name": "stdout",
     "output_type": "stream",
     "text": [
      "['apple', 'banana', 'cherry', 'orange']\n"
     ]
    }
   ],
   "source": [
    "#Use the append method to add \"orange\" to the fruits list. \n",
    "#[\"apple\", \"banana\", \"cherry\"]\n",
    "\n",
    "fruits = [\"apple\", \"banana\", \"cherry\"]\n",
    "\n",
    "fruits.append(\"orange\")\n",
    "print(fruits)"
   ]
  },
  {
   "cell_type": "code",
   "execution_count": 122,
   "metadata": {},
   "outputs": [
    {
     "name": "stdout",
     "output_type": "stream",
     "text": [
      "['apple', 'lemon', 'banana', 'cherry']\n"
     ]
    }
   ],
   "source": [
    "# Use the insert method to add \"lemon\" as the second item in the fruits list. \n",
    "#[\"apple\", \"banana\", \"cherry\"]\n",
    "\n",
    "fruits = [\"apple\", \"banana\", \"cherry\"]\n",
    "\n",
    "fruits.insert(1, \"lemon\")\n",
    "print(fruits)"
   ]
  },
  {
   "cell_type": "code",
   "execution_count": 124,
   "metadata": {},
   "outputs": [
    {
     "name": "stdout",
     "output_type": "stream",
     "text": [
      "['apple', 'cherry']\n"
     ]
    }
   ],
   "source": [
    "# Use the remove method to remove \"banana\" from the fruits list. \n",
    "#[\"apple\", \"banana\", \"cherry\"]\n",
    "\n",
    "fruits = [\"apple\", \"banana\", \"cherry\"]\n",
    "\n",
    "fruits.remove(\"banana\")\n",
    "print(fruits)\n",
    "\n"
   ]
  },
  {
   "cell_type": "code",
   "execution_count": 125,
   "metadata": {},
   "outputs": [
    {
     "name": "stdout",
     "output_type": "stream",
     "text": [
      "melon\n",
      "kiwi\n"
     ]
    }
   ],
   "source": [
    "#Use negative indexing to print the 3rd and 2nd to last items in the list.\n",
    "# [\"apple\", \"banana\", \"cherry\", \"orange\", \"kiwi\", \"melon\", \"mango\"]\n",
    "\n",
    "fruits= [\"apple\", \"banana\", \"cherry\", \"orange\", \"kiwi\", \"melon\", \"mango\"]\n",
    "\n",
    "print(fruits[-2])\n",
    "print(fruits[-3])"
   ]
  },
  {
   "cell_type": "code",
   "execution_count": 126,
   "metadata": {},
   "outputs": [
    {
     "name": "stdout",
     "output_type": "stream",
     "text": [
      "['cherry', 'orange', 'kiwi']\n"
     ]
    }
   ],
   "source": [
    "#Use a range of indexes to print the third, fourth, and fifth item in the list.\n",
    "# [\"apple\", \"banana\", \"cherry\", \"orange\", \"kiwi\", \"melon\", \"mango\"\n",
    "\n",
    "fruits= [\"apple\", \"banana\", \"cherry\", \"orange\", \"kiwi\", \"melon\", \"mango\"]\n",
    "\n",
    "print(fruits[2:5])\n"
   ]
  },
  {
   "cell_type": "code",
   "execution_count": 129,
   "metadata": {},
   "outputs": [
    {
     "name": "stdout",
     "output_type": "stream",
     "text": [
      "7\n"
     ]
    }
   ],
   "source": [
    "#Use the correct syntax to print the number of items in the list.\n",
    "# [\"apple\", \"banana\", \"cherry\", \"orange\", \"kiwi\", \"melon\", \"mango\"]\n",
    "\n",
    "fruits= [\"apple\", \"banana\", \"cherry\", \"orange\", \"kiwi\", \"melon\", \"mango\"]\n",
    "\n",
    "print(len(fruits))"
   ]
  },
  {
   "cell_type": "code",
   "execution_count": 130,
   "metadata": {},
   "outputs": [
    {
     "name": "stdout",
     "output_type": "stream",
     "text": [
      "['orange', 'melon', 'mango', 'kiwi', 'cherry', 'banana', 'apple']\n"
     ]
    }
   ],
   "source": [
    "#Use the correct syntax to sort this list in reverse order\n",
    "# [\"apple\", \"banana\", \"cherry\", \"orange\", \"kiwi\", \"melon\", \"mango\"]\n",
    "\n",
    "fruits= [\"apple\", \"banana\", \"cherry\", \"orange\", \"kiwi\", \"melon\", \"mango\"]\n",
    "\n",
    "fruits.sort(reverse=True)\n",
    "print(fruits)"
   ]
  }
 ],
 "metadata": {
  "kernelspec": {
   "display_name": "Python 3",
   "language": "python",
   "name": "python3"
  },
  "language_info": {
   "codemirror_mode": {
    "name": "ipython",
    "version": 3
   },
   "file_extension": ".py",
   "mimetype": "text/x-python",
   "name": "python",
   "nbconvert_exporter": "python",
   "pygments_lexer": "ipython3",
   "version": "3.11.1"
  },
  "orig_nbformat": 4
 },
 "nbformat": 4,
 "nbformat_minor": 2
}
