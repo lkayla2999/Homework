{
 "cells": [
  {
   "cell_type": "code",
   "execution_count": 1,
   "metadata": {},
   "outputs": [
    {
     "name": "stdout",
     "output_type": "stream",
     "text": [
      "heroList ... ['Thor', 'Iron-man', 55, 19.78, 'Widow', [2, 4, 6, 8, 10], 'Hulk']\n"
     ]
    }
   ],
   "source": [
    "# input list\n",
    "heroList = [\"Thor\", \"Iron-man\", 55, 19.78, \"Widow\", [2,4,6,8,10], \"Hulk\"]\n",
    "print(\"heroList ...\", heroList)"
   ]
  },
  {
   "cell_type": "code",
   "execution_count": 43,
   "metadata": {},
   "outputs": [
    {
     "name": "stdout",
     "output_type": "stream",
     "text": [
      "New list ...  ['Thor', 'Iron-man', 55, 19.78, 'Widow', [2, 4, 6, 8, 10], 'Hulk', 'Batman']\n"
     ]
    }
   ],
   "source": [
    "# 'appending' an element at the end of the list\n",
    "heroList = [\"Thor\", \"Iron-man\", 55, 19.78, \"Widow\", [2,4,6,8,10], \"Hulk\"]\n",
    "heroList.append(\"Batman\")\n",
    "print(\"New list ... \", heroList)"
   ]
  },
  {
   "cell_type": "markdown",
   "metadata": {},
   "source": []
  },
  {
   "cell_type": "code",
   "execution_count": 51,
   "metadata": {},
   "outputs": [
    {
     "name": "stdout",
     "output_type": "stream",
     "text": [
      "Size of the List is =  7\n",
      "['Thor', 'Iron-man', 55, 19.78, 'Widow']\n"
     ]
    }
   ],
   "source": [
    "# input list\n",
    "heroList = [\"Thor\", \"Iron-man\", 55, 19.78, \"Widow\", [2,4,6,8,10], \"Hulk\"]\n",
    "\n",
    "# getting list length\n",
    "listLength = len(heroList)\n",
    "\n",
    "# Printing the size of a list\n",
    "print(\"Size of the List is = \", listLength)"
   ]
  },
  {
   "cell_type": "markdown",
   "metadata": {},
   "source": []
  },
  {
   "cell_type": "code",
   "execution_count": 140,
   "metadata": {},
   "outputs": [
    {
     "name": "stdout",
     "output_type": "stream",
     "text": [
      "['Widow', [2, 4, 6, 8, 10], 'Hulk']\n",
      "\n",
      "Hero list 2 ..  ['Widow', [2, 4, 6, 8, 10], 'Hulk']\n",
      "['Widow', [2, 4, 6, 8, 10], 'Hulk']\n",
      "['Thor', 'Iron-man', 55, 19.78]\n",
      "['widow', 'Widow', [2, 4, 6, 8, 10], 'Hulk']\n"
     ]
    },
    {
     "ename": "AttributeError",
     "evalue": "'NoneType' object has no attribute 'extend'",
     "output_type": "error",
     "traceback": [
      "\u001b[1;31m---------------------------------------------------------------------------\u001b[0m",
      "\u001b[1;31mAttributeError\u001b[0m                            Traceback (most recent call last)",
      "Cell \u001b[1;32mIn[140], line 13\u001b[0m\n\u001b[0;32m     10\u001b[0m heroList1 \u001b[39m=\u001b[39m \u001b[39mprint\u001b[39m(heroList1[:\u001b[39m4\u001b[39m])\n\u001b[0;32m     11\u001b[0m heroList2 \u001b[39m=\u001b[39m \u001b[39mprint\u001b[39m(heroList[\u001b[39m4\u001b[39m:])\n\u001b[1;32m---> 13\u001b[0m heroList1\u001b[39m.\u001b[39;49mextend(heroList)\n\u001b[0;32m     14\u001b[0m \u001b[39mprint\u001b[39m(\u001b[39m\"\u001b[39m\u001b[39mExtended herolist1 ....\u001b[39m\u001b[39m\"\u001b[39m, heroList1)\n",
      "\u001b[1;31mAttributeError\u001b[0m: 'NoneType' object has no attribute 'extend'"
     ]
    }
   ],
   "source": [
    "# Slicing a string From the start -- no numbers at the left\n",
    "heroList1 = [\"Thor\", \"Iron-man\", 55, 19.78, \"Widow\", [2,4,6,8,10], \"Hulk\"]\n",
    "print(heroList1[4:])\n",
    "\n",
    "print(\"\\nHero list 2 .. \",heroList1 [4:] )\n",
    "\n",
    "heroList2 = print(heroList1[4:])\n",
    "\n",
    "# 'extend' one list with another\n",
    "heroList1 = print(heroList1[:4])\n",
    "heroList2 = print(heroList[4:])\n",
    "\n",
    "heroList1.extend(heroList)\n",
    "print(\"Extended herolist1 ....\", heroList1)"
   ]
  },
  {
   "cell_type": "code",
   "execution_count": 161,
   "metadata": {},
   "outputs": [
    {
     "name": "stdout",
     "output_type": "stream",
     "text": [
      "['Widow', [2, 4, 6, 8, 10], 'Hulk']\n",
      "['Thor', 'Iron-man', 55, 19.78]\n",
      "['widow', 'Widow', [2, 4, 6, 8, 10], 'Hulk']\n",
      "Extended herolist1 .... None\n"
     ]
    }
   ],
   "source": [
    "heroList1 = [\"Thor\", \"Iron-man\", 55, 19.78, \"Widow\", [2,4,6,8,10], \"Hulk\"]\n",
    "heroList2 = print(heroList1[4:])\n",
    "\n",
    "# 'extend' one list with another\n",
    "#heroList1 = print(heroList1[:4])\n",
    "#heroList2 = print(heroList[4:])\n",
    "\n",
    "heroList1.extend(heroList1)\n",
    "print(\"Extended herolist1 ....\", heroList2)"
   ]
  },
  {
   "cell_type": "code",
   "execution_count": 170,
   "metadata": {},
   "outputs": [
    {
     "name": "stdout",
     "output_type": "stream",
     "text": [
      "Extended herolist1 .... ['Thor', 'Iron-man', 55, 19.78, 'Widow', [2, 4, 6, 8, 10], 'Hulk', 'Widow', [2, 4, 6, 8, 10], 'Hulk']\n"
     ]
    }
   ],
   "source": [
    "heroList1 = [\"Thor\", \"Iron-man\", 55, 19.78, \"Widow\", [2,4,6,8,10], \"Hulk\"]\n",
    "#heroList1 = print(heroList1[:4])\n",
    "#heroList2 = print(heroList1[4:])\n",
    "heroList2 =  [\"Widow\", [2,4,6,8,10], \"Hulk\"]\n",
    "\n",
    "heroList1.extend(heroList2)\n",
    "print(\"Extended herolist1 ....\", heroList1)"
   ]
  },
  {
   "cell_type": "code",
   "execution_count": 182,
   "metadata": {},
   "outputs": [
    {
     "name": "stdout",
     "output_type": "stream",
     "text": [
      "Sort1 -  [10, 8, 6, 4, 2]\n",
      "Sort2 -  [2, 4, 6, 8, 10]\n",
      "Copied List:  [2, 4, 6, 8, 10]\n",
      "New added list ... [2, 4, 6, 8, 10]\n"
     ]
    }
   ],
   "source": [
    "# New list called \"simList\" \n",
    "\n",
    "x = [2,4,6,8,10]\n",
    "x.sort(reverse=True)\n",
    "print(\"Sort1 - \", x)\n",
    "\n",
    "# 'sort' assenting\n",
    "x.sort()\n",
    "print(\"Sort2 - \", x)\n",
    "\n",
    "#copy list using =\n",
    "new_list = x.copy()\n",
    "print ('Copied List: ', new_list)\n",
    "\n",
    "# add 2 lists together with the addition (+) sign\n",
    "#Sort2 = [10, 8, 6, 4, 2] \n",
    "#Sort3 = [2, 4, 6, 8, 10]\n",
    "#list3 = Sort1 + Sort2\n",
    "\n",
    "print(\"New added list ...\", x)\n"
   ]
  },
  {
   "cell_type": "code",
   "execution_count": 1,
   "metadata": {},
   "outputs": [
    {
     "name": "stdout",
     "output_type": "stream",
     "text": [
      "('science', 'math', 'reading', 'history', '55')\n",
      "timesTuple ... ('science', 'math', 'reading', 'history', '55', 'science', 'math', 'reading', 'history', '55', 'science', 'math', 'reading', 'history', '55')\n"
     ]
    }
   ],
   "source": [
    "tup1 = ('science', 'math', 'reading', 'history', '55')\n",
    "print(tup1)\n",
    "tuple22 = tup1 *3\n",
    "\n",
    "print (\"The 12th element from the 2nd tuple: \\n,\", tuples22[11] )\n",
    "\n",
    "print (\"\")\n",
    "# multiplying tuples\n",
    "timesTuple = tup1 * 3\n",
    "print(\"timesTuple ...\", timesTuple)"
   ]
  },
  {
   "cell_type": "code",
   "execution_count": 6,
   "metadata": {},
   "outputs": [
    {
     "name": "stdout",
     "output_type": "stream",
     "text": [
      "tup10 ... (12, 34.56, 'abc', 'xyz')\n",
      "timesTuple ... ('abc', 'xyz', 'abc', 'xyz', 'abc', 'xyz')\n"
     ]
    }
   ],
   "source": [
    "#\n",
    "Set1 = {\"Thor\", \"Iron-man\", \"Widow\"}\n",
    "print(\"Set1:\", set 1)\n",
    "# \n",
    "fruits = [\"kiwi\", \"Orange\", \"Apple\"]"
   ]
  }
 ],
 "metadata": {
  "kernelspec": {
   "display_name": "Python 3",
   "language": "python",
   "name": "python3"
  },
  "language_info": {
   "codemirror_mode": {
    "name": "ipython",
    "version": 3
   },
   "file_extension": ".py",
   "mimetype": "text/x-python",
   "name": "python",
   "nbconvert_exporter": "python",
   "pygments_lexer": "ipython3",
   "version": "3.11.1"
  },
  "orig_nbformat": 4,
  "vscode": {
   "interpreter": {
    "hash": "efa59b8bb80f8f1134364ce3a70d879efe0b01cd0e7b1fff869a13b0128b6f8c"
   }
  }
 },
 "nbformat": 4,
 "nbformat_minor": 2
}
