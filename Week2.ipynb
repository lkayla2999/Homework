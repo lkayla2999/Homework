{
 "cells": [
  {
   "attachments": {},
   "cell_type": "markdown",
   "metadata": {},
   "source": [
    "<!-- Headings-->\n",
    "\n",
    "\n",
    "# Week 2 Homework\n",
    "\n",
    "\n",
    "<!-- Plain text-->\n",
    "\n",
    "\n",
    "1. What kind of language is Python Considered?\n",
    "   Python is considered a high-level language.\n",
    "\n",
    "\n",
    "2. What's a natural language?\n",
    "   A natural language take less time to write, shorter and easier to read, and more likely to be correct/error free when run.\n",
    "\n",
    "\n",
    "3. Is Python a Natural or a Formal language?\n",
    "   Both\n",
    "\n",
    "\n",
    "4. What are Algorithms?\n",
    "   Algorithms are series of steps to slove a problem at hand.\n",
    "\n",
    "\n",
    "5. Why is Python considered to be a high-level language?\n",
    "   Python is considered a high-level language because of it natural & interpreted languages gives it the ability to execute it.\n",
    "\n",
    "\n",
    "6. What is a Semantic error?\n",
    "   When a code is grammatically correct but doesn't make any sense; it does not produce the expected results.\n",
    "\n",
    "\n",
    "7. What is the #1 rule of coding/debugging?\n",
    "   Programs must be processed before they can be run by a computer.\n",
    "\n"
   ]
  },
  {
   "cell_type": "code",
   "execution_count": 1,
   "metadata": {},
   "outputs": [
    {
     "name": "stdout",
     "output_type": "stream",
     "text": [
      "Hello World!\n"
     ]
    }
   ],
   "source": [
    "print(\"Hello World!\")"
   ]
  }
 ],
 "metadata": {
  "kernelspec": {
   "display_name": "Python 3",
   "language": "python",
   "name": "python3"
  },
  "language_info": {
   "codemirror_mode": {
    "name": "ipython",
    "version": 3
   },
   "file_extension": ".py",
   "mimetype": "text/x-python",
   "name": "python",
   "nbconvert_exporter": "python",
   "pygments_lexer": "ipython3",
   "version": "3.11.1"
  },
  "orig_nbformat": 4,
  "vscode": {
   "interpreter": {
    "hash": "efa59b8bb80f8f1134364ce3a70d879efe0b01cd0e7b1fff869a13b0128b6f8c"
   }
  }
 },
 "nbformat": 4,
 "nbformat_minor": 2
}
