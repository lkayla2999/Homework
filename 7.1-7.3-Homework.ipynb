{
 "cells": [
  {
   "attachments": {},
   "cell_type": "markdown",
   "metadata": {},
   "source": [
    "<!-- Headings -->\n",
    "Homework 7\n",
    "\n",
    "<!--OL-->\n",
    "\n",
    "1. What is a student's average grade?\n",
    "<font color= green>87%</font>\n",
    "1. What department has the highest average grade?\n",
    "<font color= green>Python</font>\n",
    "1. What student has the single highest grade?\n",
    "<font color= green>Maria </font>"
   ]
  },
  {
   "attachments": {},
   "cell_type": "markdown",
   "metadata": {},
   "source": [
    "SQL file Section07_kl\n",
    "\n",
    "# Importing a CSV file\n",
    "import pandas as pd\n",
    "\n",
    "# Viewing the newly created  .csv file\n",
    "import pandas as pd\n",
    "\n",
    "df = pd.read_csv('Section07_kl.sqbpro.csv')\n",
    "print(df)\n"
   ]
  },
  {
   "attachments": {},
   "cell_type": "markdown",
   "metadata": {},
   "source": [
    "SQL Data \n",
    "\n",
    "<?xml version=\"1.0\" encoding=\"UTF-8\"?><sqlb_project><db path=\"C:/Users/lkayl/Downloads/Section07.sqlite\" readonly=\"0\" foreign_keys=\"1\" case_sensitive_like=\"0\" temp_store=\"0\" wal_autocheckpoint=\"1000\" synchronous=\"2\"/><attached/><window><main_tabs open=\"structure browser pragmas query\" current=\"3\"/></window><tab_structure><column_width id=\"0\" width=\"300\"/><column_width id=\"1\" width=\"0\"/><column_width id=\"2\" width=\"100\"/><column_width id=\"3\" width=\"734\"/><column_width id=\"4\" width=\"0\"/><expanded_item id=\"0\" parent=\"1\"/><expanded_item id=\"1\" parent=\"1\"/><expanded_item id=\"2\" parent=\"1\"/><expanded_item id=\"3\" parent=\"1\"/></tab_structure><tab_browse><current_table name=\"4,11:mainDepartments\"/><default_encoding codec=\"\"/><browse_table_settings><table schema=\"main\" name=\"Departments\" show_row_id=\"0\" encoding=\"\" plot_x_axis=\"\" unlock_view_pk=\"_rowid_\"><sort/><column_widths><column index=\"1\" value=\"99\"/><column index=\"2\" value=\"121\"/></column_widths><filter_values/><conditional_formats/><row_id_formats/><display_formats/><hidden_columns/><plot_y_axes/><global_filter/></table></browse_table_settings></tab_browse><tab_sql><sql name=\"SQL 1\">SELECT s.StudentName\n",
    "\n",
    "\t,avg(g.grade) AS GPA \n",
    "\n",
    "\tFROM Students s\n",
    "\n",
    "\t\tINNER JOIN Grades g\n",
    "\n",
    "\t\t\tON s.StudentId = g.StudentId\n",
    "\n",
    "\tGROUP BY s.StudentName\n",
    "\n",
    "\tORDER BY avg(g.grade) desc</sql><sql name=\"SQL 2\">select s.StudentName\n",
    "\n",
    "\t,c.SubjectName\n",
    "\n",
    "\t,g.Grade \n",
    "\n",
    "\tfrom Grades g\n",
    "\n",
    "\tinner join Students s\n",
    "\n",
    "\t\ton g.StudentId = s.StudentId\n",
    "\n",
    "\tinner join Subjects c --classes\n",
    "\n",
    "\t\ton g.SubjectId = c.SubjectId\n",
    "\n",
    "\t\t;</sql><sql name=\"SQL 3\">select s.StudentName as &quot;Student Name&quot;\n",
    "\n",
    "\t,c.SubjectName as &quot;Class&quot;\n",
    "\n",
    "\t,g.Grade as 'Result'\n",
    "\n",
    "\tfrom Students s\n",
    "\n",
    "\t\tleft join Grades g\n",
    "\n",
    "\t\t\ton s.StudentId = g.StudentId\n",
    "\n",
    "\t\tleft join Subjects C --classes\n",
    "\n",
    "\t\t\ton g.SubjectId = c.SubjectId\n",
    "\n",
    "\t\t;\n",
    "\n",
    "</sql><sql name=\"SQL 4\"></sql><sql name=\"SQL 5\">select * \n",
    "\n",
    "\tfrom Grades g\n",
    "\n",
    "\tinner join Students s\n",
    "\n",
    "\t\ton g.StudentId = s.StudentId\n",
    "\n",
    "\tinner join Subjects C --classes\n",
    "\n",
    "\t\ton g.SubjectId = c.SubjectId\n",
    "\n",
    "\t\t;</sql><current_tab id=\"0\"/></tab_sql></sqlb_project>"
   ]
  }
 ],
 "metadata": {
  "kernelspec": {
   "display_name": "Python 3",
   "language": "python",
   "name": "python3"
  },
  "language_info": {
   "codemirror_mode": {
    "name": "ipython",
    "version": 3
   },
   "file_extension": ".py",
   "mimetype": "text/x-python",
   "name": "python",
   "nbconvert_exporter": "python",
   "pygments_lexer": "ipython3",
   "version": "3.11.1"
  },
  "orig_nbformat": 4
 },
 "nbformat": 4,
 "nbformat_minor": 2
}
