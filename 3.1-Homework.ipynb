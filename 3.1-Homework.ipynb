{
 "cells": [
  {
   "attachments": {},
   "cell_type": "markdown",
   "metadata": {},
   "source": [
    "<!--OL-->\n",
    "\n",
    "1. What are Algorithms?\n",
    "<font color= green>\n",
    "Algorithms are series of steps to slove a problem at hand.</font>\n",
    "\n",
    "2. Why is Python considered to be a high-level language?\n",
    "<font color= green>\n",
    "Python is considered a high-level language because of it natural & interpreted languages gives it the ability to execute it.</font>\n",
    "\n",
    "3. Is Python a Natural or a Formal language?\n",
    "<font color= green>\n",
    "Both</font>\n",
    "\n",
    "4. Variable names may not start with certain characters - name two. \n",
    "<!-- UL -->\n",
    "* <font color= green> 11 </font>\n",
    "* <font color= green> 490 </font>\n",
    "\n",
    "\n",
    "\n",
    "5. What is a Semantic error?\n",
    " <font color= green>\n",
    "When a code is grammatically correct but doesn't make any sense; it does not produce the expected results.</font>\n",
    "\n",
    "6. What is the #1 rule of coding/debugging?\n",
    "<font color= green>\n",
    "Programs must be processed before they can be run by a computer.</font>\n",
    "\n",
    "\n",
    "7. Reserved words\n",
    "<!-- UL -->\n",
    "* <font color= pink>False</font>\n",
    "    * <font color= purple>None</font>\n",
    "    * <font color= purple>And</font>\n",
    "* <font color= pink>True</font>\n",
    "    * <font color= purple>Else</font>\n",
    "    * <font color= purple>Finally</font>\n",
    "* <font color= pink>Pass</font>\n",
    "    * <font color= purple>Return</font>\n",
    "\n",
    "8. <!-- Links -->\n",
    "   [Game Designing](https://www.gamedesigning.org/learn/python/)\n",
    "    \n",
    "\n",
    "\n",
    "\n",
    "\n"
   ]
  },
  {
   "cell_type": "code",
   "execution_count": 9,
   "metadata": {},
   "outputs": [
    {
     "name": "stdout",
     "output_type": "stream",
     "text": [
      "Hi, My name is Kayla.\n",
      "My favorite food is Pizza.\n",
      "My dream job is to be a Data Analyst.\n"
     ]
    }
   ],
   "source": [
    "\"\"\"\n",
    "This is a multi- line comment \n",
    "\"\"\"\n",
    "name = \"Kayla\"\n",
    "food = \"Pizza\"\n",
    "profession = \"Data Analyst\"\n",
    "\n",
    "message = ( \n",
    "    f\"Hi, My name is {name}.\"\n",
    ")\n",
    "print (message)\n",
    "\n",
    "message = ( \n",
    "    f\"My favorite food is {food}.\"\n",
    ")\n",
    "print (message)\n",
    "\n",
    "message = ( \n",
    "     f\"My dream job is to be a {profession}.\"\n",
    ")\n",
    "print (message)"
   ]
  },
  {
   "cell_type": "code",
   "execution_count": 21,
   "metadata": {},
   "outputs": [
    {
     "name": "stdout",
     "output_type": "stream",
     "text": [
      "['Thor', 'Iron Man', 'Hulk', 'Ant-Man', 'Widow']\n",
      "['Thor', 'Iron Man', 'Hulk', 'Ant-Man', 'Widow']\n",
      "['Thor', 'Iron Man', 'Hulk', 'Ant-Man', 'Widow']\n",
      "['Thor', 'Iron Man', 'Hulk', 'Ant-Man', 'Widow']\n",
      "['Thor', 'Iron Man', 'Hulk', 'Ant-Man', 'Widow']\n",
      "Goodmorning!\n",
      "11\n",
      "23.0\n"
     ]
    }
   ],
   "source": [
    "#This is a list datetype\n",
    "\n",
    "Heros =['Thor','Iron Man', 'Hulk', 'Ant-Man', 'Widow']\n",
    "a = b = c = d = e = Heros\n",
    "print (a)\n",
    "print (b)\n",
    "print (c)\n",
    "print (d)\n",
    "print (e)\n",
    "\n",
    "\n",
    "# This is a string datatype\n",
    "\n",
    "x = str(\"Goodmorning!\") \n",
    "print(x)\n",
    "# This is a integer datatype\n",
    "\n",
    "i = int(11)\n",
    "print (i)\n",
    "\n",
    "# This is a float datatype\n",
    "\n",
    "j = float(23)\n",
    "print(j)\n",
    "\n",
    "# This is a tuple datatype\n",
    "\n",
    "x = (\"vanilla\", \"Strawberry\", \"Chocolate\", \"Butter Pecan\", \"Cookies and Cream\")\n"
   ]
  },
  {
   "cell_type": "code",
   "execution_count": 43,
   "metadata": {},
   "outputs": [
    {
     "name": "stdout",
     "output_type": "stream",
     "text": [
      "The length of a is ... 12\n"
     ]
    }
   ],
   "source": [
    "z = 'Goodmorning!'\n",
    "# Use len() to find the length of a string+\n",
    "z = \"Goodmorning!\" \n",
    "print(\"The length of a is ...\", len(z))"
   ]
  },
  {
   "cell_type": "code",
   "execution_count": 111,
   "metadata": {},
   "outputs": [
    {
     "name": "stdout",
     "output_type": "stream",
     "text": [
      "Element 4 = d\n",
      "Element -4 = n\n"
     ]
    }
   ],
   "source": [
    "# counting characters in a string ...\n",
    "\n",
    "G = \"Goodmorning\"\n",
    "\n",
    "print(\"Element 4 =\", G[3])\n",
    "\n",
    "G = \"Goodmorning\"\n",
    "\n",
    "print(\"Element -4 =\", G[-4])"
   ]
  },
  {
   "cell_type": "code",
   "execution_count": 65,
   "metadata": {},
   "outputs": [
    {
     "name": "stdout",
     "output_type": "stream",
     "text": [
      "Learning Data Analytics and Python is Awesome!\n"
     ]
    }
   ],
   "source": [
    "\n",
    "savvy = \"Learning Data Analytics and Python is Awesome!\"\n",
    "print(savvy)"
   ]
  },
  {
   "cell_type": "code",
   "execution_count": 76,
   "metadata": {},
   "outputs": [
    {
     "name": "stdout",
     "output_type": "stream",
     "text": [
      "ing Data Analytics \n"
     ]
    }
   ],
   "source": [
    "# Slicing a string From the start -- no numbers at the left\n",
    "savvy = \"Learning Data Analytics and Python is Awesome!\"\n",
    "print(savvy[5:24])"
   ]
  },
  {
   "cell_type": "code",
   "execution_count": 79,
   "metadata": {},
   "outputs": [
    {
     "name": "stdout",
     "output_type": "stream",
     "text": [
      "Learning Data Analytics and Python is Great!\n"
     ]
    }
   ],
   "source": [
    "# Temporarily changing text in a string\n",
    "\n",
    "savvy = \"Learning Data Analytics and Python is Awesome!\"\n",
    "print(savvy.replace(\"Awesome\",\"Great\"))\n",
    "\n",
    "\n"
   ]
  },
  {
   "cell_type": "code",
   "execution_count": 89,
   "metadata": {},
   "outputs": [
    {
     "name": "stdout",
     "output_type": "stream",
     "text": [
      "Hi, My name is Kayla.\n",
      "My age is 23.\n",
      "The length of a is 5.\n",
      "The length of a is 5.\n"
     ]
    }
   ],
   "source": [
    "\"\"\"\n",
    "This is a multi- line comment \n",
    "\"\"\"\n",
    "name = \"Kayla\"\n",
    "age = \"23\"\n",
    "\n",
    "message = ( \n",
    "    f\"Hi, My name is {name}.\"\n",
    ")\n",
    "print (message)\n",
    "\n",
    "message = ( \n",
    "    f\"My age is {age}.\"\n",
    ")\n",
    "print (message)\n",
    "\n",
    "message = ( \n",
    "     f\"The length of a is {len(name)}.\"\n",
    ")\n",
    "print (message)\n",
    "\n",
    "message = ( \n",
    "     f\"The length of a is {len(name)}.\"\n",
    ")\n",
    "print (message)"
   ]
  },
  {
   "cell_type": "code",
   "execution_count": 93,
   "metadata": {},
   "outputs": [
    {
     "name": "stdout",
     "output_type": "stream",
     "text": [
      "I want 3 pieces of item 567 for 49.95 dollars.\n"
     ]
    }
   ],
   "source": [
    "# Formatting string using .format() method\n",
    "quantity = 3\n",
    "itemNo = 567\n",
    "price = 49.95\n",
    "\"Hi my name is (name), I am (tall) and (so) old today.\"\n",
    "myOrder = \"I want {} pieces of item {} for {} dollars.\"\n",
    "print(myOrder.format(quantity, itemNo, price))"
   ]
  },
  {
   "cell_type": "code",
   "execution_count": 109,
   "metadata": {},
   "outputs": [
    {
     "name": "stdout",
     "output_type": "stream",
     "text": [
      "Hi my name is Kayla, I am 5'6 and 23 years old today.\n",
      "23.0\n",
      "Age is ... <class 'float'>\n"
     ]
    }
   ],
   "source": [
    "# Formatting string using .format() method called MiniBio\n",
    "name = \"Kayla\"\n",
    "height = \"5'6\"\n",
    "age = \"23\"\n",
    "myOrder = \"Hi my name is {}, I am {} and {} years old today.\"\n",
    "print(myOrder.format(name,height,age))\n",
    "\n",
    "\n",
    "# casting to a float\n",
    "age = float(23)\n",
    "print(age)\n",
    "# You can check the data type of a value by using `type()`\n",
    "print(\"Age is ...\", type(age))"
   ]
  }
 ],
 "metadata": {
  "kernelspec": {
   "display_name": "Python 3",
   "language": "python",
   "name": "python3"
  },
  "language_info": {
   "codemirror_mode": {
    "name": "ipython",
    "version": 3
   },
   "file_extension": ".py",
   "mimetype": "text/x-python",
   "name": "python",
   "nbconvert_exporter": "python",
   "pygments_lexer": "ipython3",
   "version": "3.11.1"
  },
  "orig_nbformat": 4,
  "vscode": {
   "interpreter": {
    "hash": "efa59b8bb80f8f1134364ce3a70d879efe0b01cd0e7b1fff869a13b0128b6f8c"
   }
  }
 },
 "nbformat": 4,
 "nbformat_minor": 2
}
